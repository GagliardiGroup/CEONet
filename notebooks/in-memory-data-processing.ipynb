{
 "cells": [
  {
   "cell_type": "code",
   "execution_count": 1,
   "id": "b88022ae-0937-4897-a72a-f5b92483b538",
   "metadata": {},
   "outputs": [],
   "source": [
    "import h5py\n",
    "import time\n",
    "import ase\n",
    "import os\n",
    "import numpy as np\n",
    "import torch\n",
    "import h5py\n",
    "import lightning as L\n",
    "\n",
    "#loader to import dicts:\n",
    "from cace.data.atomic_data import AtomicData\n",
    "from cace.tools.torch_geometric import Dataset, DataLoader"
   ]
  },
  {
   "cell_type": "code",
   "execution_count": 2,
   "id": "bdb94887-1e7c-4b6a-afcc-f310da22e96a",
   "metadata": {},
   "outputs": [],
   "source": [
    "from deeporb.data import OrbData"
   ]
  },
  {
   "cell_type": "code",
   "execution_count": 10,
   "id": "d9ac4d57-3269-402b-a7dd-98f4d3329bec",
   "metadata": {},
   "outputs": [],
   "source": [
    "start = time.time()\n",
    "dl = OrbData('data/samples/sto3g_occ_100000.h5', in_memory=True, batch_size=64)\n",
    "end = time.time()"
   ]
  },
  {
   "cell_type": "code",
   "execution_count": 11,
   "id": "bf5ef914-daf5-469b-ae6c-d51038c95859",
   "metadata": {},
   "outputs": [
    {
     "data": {
      "text/plain": [
       "133.78795504570007"
      ]
     },
     "execution_count": 11,
     "metadata": {},
     "output_type": "execute_result"
    }
   ],
   "source": [
    "end-start"
   ]
  },
  {
   "cell_type": "code",
   "execution_count": null,
   "id": "ab918f3a-5053-4f49-b6b8-2c682362a751",
   "metadata": {},
   "outputs": [],
   "source": []
  }
 ],
 "metadata": {
  "kernelspec": {
   "display_name": "Python 3 (ipykernel)",
   "language": "python",
   "name": "python3"
  },
  "language_info": {
   "codemirror_mode": {
    "name": "ipython",
    "version": 3
   },
   "file_extension": ".py",
   "mimetype": "text/x-python",
   "name": "python",
   "nbconvert_exporter": "python",
   "pygments_lexer": "ipython3",
   "version": "3.10.12"
  }
 },
 "nbformat": 4,
 "nbformat_minor": 5
}
