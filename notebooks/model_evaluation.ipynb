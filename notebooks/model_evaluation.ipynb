{
 "cells": [
  {
   "cell_type": "code",
   "execution_count": 1,
   "id": "374d793d-3592-4132-9cce-50951d8777d3",
   "metadata": {},
   "outputs": [],
   "source": [
    "%load_ext autoreload\n",
    "%autoreload 2"
   ]
  },
  {
   "cell_type": "code",
   "execution_count": 40,
   "id": "ba1d535d-36cc-4976-817a-8453f3d6fb9d",
   "metadata": {},
   "outputs": [],
   "source": [
    "import os\n",
    "import sys\n",
    "import glob\n",
    "import torch\n",
    "import time\n",
    "from cace.tasks import LightningTrainingTask\n",
    "from deeporb.data import OrbDataset, OrbData\n",
    "from deeporb.ceonet import CEONet\n",
    "from cace.models import NeuralNetworkPotential\n",
    "from deeporb.atomwise import AttentionAtomwise\n",
    "from cace.tasks import GetLoss\n",
    "from deeporb.metrics import Metrics\n",
    "import numpy as np\n",
    "import matplotlib.pyplot as plt\n",
    "import hashlib\n",
    "from pathlib import Path\n",
    "import h5py"
   ]
  },
  {
   "cell_type": "code",
   "execution_count": 41,
   "id": "99b6542d-7238-47aa-85e1-2a93fc47785c",
   "metadata": {},
   "outputs": [],
   "source": [
    "def load_h5_as_dict(file_path:Path):\n",
    "    data_dict = {}\n",
    "    with h5py.File(file_path, 'r') as h5_file:\n",
    "        for group_name in h5_file.keys():\n",
    "            group = h5_file[group_name]\n",
    "            group_data = {}\n",
    "            for key in group.keys():\n",
    "                group_data[key] = group[key][()]\n",
    "            data_dict[group_name] = group_data\n",
    "    return data_dict\n",
    "\n",
    "def tensor_hash(tensor):\n",
    "    return hashlib.md5(tensor.cpu().numpy().tobytes()).hexdigest()\n",
    "\n",
    "def verify_with_hash(h5_path, pt_path):\n",
    "    data_h5 = load_h5_as_dict(Path(h5_path))\n",
    "    for group, datasets in data_h5.items():\n",
    "        for key, value in datasets.items():\n",
    "            if not isinstance(value, torch.Tensor):\n",
    "                data_h5[group][key] = torch.tensor(value)\n",
    "    \n",
    "    data_pt = torch.load(Path(pt_path))\n",
    "    \n",
    "    for group in data_h5:\n",
    "        if group not in data_pt:\n",
    "            print(f\"Group '{group}' not found in the pt file.\")\n",
    "            continue\n",
    "\n",
    "        for key in data_h5[group]:\n",
    "            if key not in data_pt[group]:\n",
    "                print(f\"Key '{key}' in group '{group}' not found in the pt file.\")\n",
    "                continue\n",
    "\n",
    "            hash_h5 = tensor_hash(data_h5[group][key])\n",
    "            hash_pt = tensor_hash(data_pt[group][key])\n",
    "            \n",
    "            if hash_h5 != hash_pt:\n",
    "                print(f\"Hash mismatch for group '{group}', key '{key}': {hash_h5} vs {hash_pt}\")\n",
    "            else:\n",
    "                #print(f\"Group '{group}', key '{key}' verified\")\n",
    "                continue\n",
    "    print(\"Hash-based verification complete.\")"
   ]
  },
  {
   "cell_type": "code",
   "execution_count": 42,
   "id": "ff60cd44-1f23-4211-9a44-f51f2bcb0727",
   "metadata": {},
   "outputs": [
    {
     "name": "stdout",
     "output_type": "stream",
     "text": [
      "Hash-based verification complete.\n"
     ]
    }
   ],
   "source": [
    "verify_with_hash(\"../data/sto3g/sto3g_occ_10000.h5\", \"../data/sto3g/sto3g_occ_10000.pt\" )"
   ]
  },
  {
   "cell_type": "code",
   "execution_count": 43,
   "id": "529855b4-23e0-4ddb-af3a-909751be072c",
   "metadata": {},
   "outputs": [],
   "source": [
    "mean_std_dct = {\n",
    "    \"qh9_occ\":[-0.5144,0.2229],\n",
    "    \"qh9_virt\":[1.4346,0.9854],\n",
    "    \"qh9_v12\":[0.5353,0.3168],\n",
    "    \"sto3g_occ\":[-0.6605,0.2801],\n",
    "    \"sto3g_virt\":[0.6892,0.1825],\n",
    "    \"tm_occ\":[-0.6154,0.2862],\n",
    "    \"tm_virt\":[0.6896,0.2229],\n",
    "    \"qh9_all\":[1.1572,1.1341],\n",
    "    \"sto3g_all\":[-0.0188,0.7169],\n",
    "    \"tm_all\":[-0.0234,0.7003],\n",
    "    \"kl_constructed\":[0,1],\n",
    "    \"qh9_class_occ\":[0,1],\n",
    "    \"qh9_class_forb\":[0,1],\n",
    "    \"qh9_balanced\":[0,1],\n",
    "    \"sto3g_balanced\":[0,1],\n",
    "    \"sto3g_class_occ\":[-0.0188,0.7169],\n",
    "    \"b3lyp_occ\":[-0.4527,0.2246],\n",
    "    \"b3lyp_virt\":[0.4318,0.1652],\n",
    "    \"nan\":[0,1],\n",
    "}"
   ]
  },
  {
   "cell_type": "code",
   "execution_count": 4,
   "id": "62efd26e-efe4-482d-a38e-b0195633a310",
   "metadata": {},
   "outputs": [],
   "source": [
    "#Write here\n",
    "LOGS_NAME = \"sto3g_occ_1000000\"\n",
    "DATA_NAME = \"sto3g_occ\"\n",
    "SUBSET_SIZE = \"1000000\"\n",
    "\n",
    "#Model params\n",
    "CUTOFF = 7.6\n",
    "LINMAX = 1\n",
    "LOMAX = 2\n",
    "NC = 16\n",
    "LAYERS = 2\n",
    "N_RBF = 16\n",
    "N_RSAMPLES = 16\n",
    "STACKING = True\n",
    "IRREP_MIXING = False\n",
    "CHARGE_EMBEDDING = False\n",
    "\n",
    "#Data params\n",
    "BATCH_SIZE = 128\n",
    "#NUM_TRAIN = 5120\n",
    "#NUM_VAL = 10000\n",
    "IN_MEMORY = True\n",
    "AVGE0 = -0.6605\n",
    "SIGMA = 0.2801\n",
    "\n",
    "\n",
    "DEV_RUN = False\n",
    "LR = 0.001\n",
    "MAX_STEPS = 600000\n",
    "\n",
    "on_cluster = False"
   ]
  },
  {
   "cell_type": "code",
   "execution_count": 5,
   "id": "e94e4271-baa9-493b-8acf-5772157e2228",
   "metadata": {},
   "outputs": [
    {
     "name": "stdout",
     "output_type": "stream",
     "text": [
      "../data/sto3g/sto3g_occ_1000000.pt\n",
      "Making dataset...\n",
      "Time elapsed: 3.095902502536774e-05\n"
     ]
    }
   ],
   "source": [
    "root = f\"../data/{DATA_NAME.split('_')[0]}/{DATA_NAME.split('.')[0]}_{SUBSET_SIZE}.pt\"\n",
    "\n",
    "print(root)\n",
    "\n",
    "torch.multiprocessing.set_sharing_strategy('file_system')\n",
    "in_memory = True\n",
    "\n",
    "print(\"Making dataset...\")\n",
    "time_start = time.perf_counter()\n",
    "data = OrbData(data_path=root,batch_size=BATCH_SIZE,cutoff=CUTOFF,avge0=AVGE0,sigma=SIGMA)\n",
    "#data = OrbData(root=root,batch_size=BATCH_SIZE,num_val=NUM_VAL,num_train=NUM_TRAIN,cutoff=CUTOFF,in_memory=in_memory,avge0=AVGE0,sigma=SIGMA)\n",
    "time_stop = time.perf_counter()\n",
    "print(\"Time elapsed:\",time_stop-time_start)\n",
    "\n",
    "representation = CEONet(NC,cutoff=CUTOFF,n_rbf=N_RBF,n_rsamples=N_RSAMPLES,stacking=STACKING,irrep_mixing=IRREP_MIXING,\n",
    "                        linmax=LINMAX,lomax=LOMAX,layers=LAYERS,charge_embedding=CHARGE_EMBEDDING)\n",
    "\n",
    "atomwise = AttentionAtomwise(\n",
    "                    output_key='pred_energy',\n",
    "                    n_hidden=[32,16],\n",
    "                    attention_hidden_nc=128,\n",
    "                    avge0=AVGE0,sigma=SIGMA,\n",
    "                    bias=True\n",
    "                   )\n",
    "\n",
    "model = NeuralNetworkPotential(\n",
    "    input_modules=None,\n",
    "    representation=representation,\n",
    "    output_modules=[atomwise]\n",
    ")\n",
    "\n",
    "e_loss = GetLoss(\n",
    "            target_name=\"energy_ssh\",\n",
    "            predict_name='pred_energy',\n",
    "            loss_fn=torch.nn.MSELoss(),\n",
    "            loss_weight=1,\n",
    "            )\n",
    "losses = [e_loss]\n",
    "\n",
    "e_metric = Metrics(\n",
    "            target_name=\"energy\",\n",
    "            predict_name='pred_energy',\n",
    "            name='e',\n",
    "            metric_keys=[\"mae\"],\n",
    "            avge0=AVGE0,sigma=SIGMA,\n",
    "            per_atom=False,\n",
    "        )\n",
    "metrics = [e_metric]"
   ]
  },
  {
   "cell_type": "code",
   "execution_count": 6,
   "id": "910aa3f0-35fe-4cac-9406-42bca19d828e",
   "metadata": {},
   "outputs": [
    {
     "name": "stdout",
     "output_type": "stream",
     "text": [
      "../data/lightning_logs/sto3g_occ_1000000/version_1\n",
      "1\n",
      "Checkpoint found! ../data/lightning_logs/sto3g_occ_1000000/version_1/checkpoints/epoch=383-step=600000.ckpt\n",
      "Restarting...\n"
     ]
    }
   ],
   "source": [
    "#Check for checkpoint and restart if found:\n",
    "chkpt = None\n",
    "dev_run = DEV_RUN\n",
    "if os.path.isdir(f\"../data/lightning_logs/{LOGS_NAME}\"):\n",
    "    latest_version = None\n",
    "    num = 0\n",
    "    while os.path.isdir(f\"../data/lightning_logs/{LOGS_NAME}/version_{num}\"):\n",
    "        latest_version = f\"../data/lightning_logs/{LOGS_NAME}/version_{num}\"\n",
    "        num += 1\n",
    "    print(latest_version)\n",
    "    if latest_version:\n",
    "        chkpt_list = glob.glob(f\"{latest_version}/checkpoints/*.ckpt\")\n",
    "        print(len(chkpt_list))\n",
    "        if len(chkpt_list)>0:\n",
    "            chkpt = chkpt_list[0]\n",
    "if chkpt:\n",
    "    print(\"Checkpoint found!\",chkpt)\n",
    "    print(\"Restarting...\")\n",
    "    dev_run = False\n",
    "\n",
    "progress_bar = True\n",
    "#if on_cluster:\n",
    "#    torch.set_float32_matmul_precision('medium')\n",
    "#    progress_bar = False\n",
    "\n",
    "#torch.set_float32_matmul_precision('medium')\n",
    "\n",
    "#task = LightningTrainingTask(model,losses=losses,metrics=metrics,metric_typ=\"mae\",\n",
    "#                             logs_directory=\"lightning_logs\",name=LOGS_NAME,\n",
    "#                             scheduler_args={'mode': 'min', 'factor': 0.8, 'patience': 10},\n",
    "#                             optimizer_args={'lr': LR},\n",
    "#                            )\n",
    "\n",
    "task = LightningTrainingTask(model,losses=losses,metrics=metrics,\n",
    "                             logs_directory=\"lightning_logs\",name=LOGS_NAME,\n",
    "                             scheduler_args={'mode': 'min', 'factor': 0.8, 'patience': 10},\n",
    "                             optimizer_args={'lr': LR},\n",
    "                            )"
   ]
  },
  {
   "cell_type": "code",
   "execution_count": 7,
   "id": "5b079bbf-97dd-4a80-9aca-8b7ecb560847",
   "metadata": {},
   "outputs": [
    {
     "data": {
      "text/plain": [
       "<deeporb.data.OrbData at 0x3024a78c0>"
      ]
     },
     "execution_count": 7,
     "metadata": {},
     "output_type": "execute_result"
    }
   ],
   "source": [
    "data"
   ]
  },
  {
   "cell_type": "code",
   "execution_count": 9,
   "id": "989c2ed3-1e1c-46c1-b548-01c902f496c4",
   "metadata": {},
   "outputs": [],
   "source": [
    "task.model = task.model.eval()"
   ]
  },
  {
   "cell_type": "code",
   "execution_count": 10,
   "id": "2ff5dc55-13c2-4f56-b458-26f9da641013",
   "metadata": {},
   "outputs": [
    {
     "name": "stdout",
     "output_type": "stream",
     "text": [
      "calling prepare data\n",
      "reading pt file\n",
      "1000000\n",
      "calling setup\n",
      "1000000\n",
      "800000\n"
     ]
    }
   ],
   "source": [
    "data.setup()"
   ]
  },
  {
   "cell_type": "code",
   "execution_count": 23,
   "id": "a16aa4a8-bd91-47eb-9822-d6cb2dc1ecc7",
   "metadata": {},
   "outputs": [],
   "source": [
    "pred_energies = []\n",
    "true_energies = []"
   ]
  },
  {
   "cell_type": "code",
   "execution_count": 24,
   "id": "a6b82124-dfb3-4be2-98a5-b9d5df9fd000",
   "metadata": {},
   "outputs": [],
   "source": [
    "with torch.no_grad():\n",
    "    for batch in data.test_dataloader():\n",
    "        out = task.model(batch)\n",
    "        pred_energy = out[\"pred_energy\"]\n",
    "        pred_energy = pred_energy.cpu().detach().numpy()\n",
    "        pred_energies.append(pred_energy)\n",
    "        true_energy = batch[\"energy\"].cpu().detach().numpy()\n",
    "        true_energies.append(true_energy)\n",
    "        # break"
   ]
  },
  {
   "cell_type": "code",
   "execution_count": 25,
   "id": "6a718f24-8a3d-4cb0-a3fd-53b118e4f7d0",
   "metadata": {},
   "outputs": [
    {
     "data": {
      "text/plain": [
       "array([-0.39725903, -0.5367772 , -0.6426669 , -0.5081031 , -0.8654111 ,\n",
       "       -0.5422686 , -0.63419044, -1.1934551 , -0.56221145, -0.7747564 ,\n",
       "       -0.35956272, -0.56216204, -0.68662024, -1.0308315 , -0.90770847,\n",
       "       -0.41381052, -0.5796786 , -0.30017337, -0.4196319 , -0.74525064,\n",
       "       -0.3786285 , -0.6797848 , -0.5562829 , -0.43031105, -0.43275735,\n",
       "       -0.5935139 , -1.4557226 , -0.29575682, -0.72448736, -0.31776485,\n",
       "       -0.726965  , -0.51860034, -0.4183413 , -0.3149897 , -0.5743694 ,\n",
       "       -0.36299416, -0.5219199 , -0.4850782 , -1.3065517 , -0.60299826,\n",
       "       -0.37320757, -0.57895154, -0.5261393 , -0.55129737, -1.0021585 ,\n",
       "       -1.3503816 , -0.73059654, -0.3696467 , -1.370544  , -0.908999  ,\n",
       "       -0.33329985, -0.45867008, -0.53228295, -0.5294453 , -0.5134679 ,\n",
       "       -1.3138013 , -0.73989654, -0.84994465, -1.4127976 , -0.86745423,\n",
       "       -0.37788656, -0.6421937 , -0.50199145, -1.4216927 , -1.0394399 ,\n",
       "       -0.5144468 , -0.3114125 , -0.51008284, -1.1880149 , -0.48884308,\n",
       "       -0.76811624, -0.4362106 , -0.44744545, -0.9934441 , -0.5141159 ,\n",
       "       -0.66099524, -0.67007655, -0.45137694, -0.47281536, -0.6163685 ,\n",
       "       -0.516733  , -0.55048853, -0.4785508 , -1.3052744 , -0.3943423 ,\n",
       "       -1.2863168 , -1.3940763 , -0.5736164 , -0.62832505, -1.0736948 ,\n",
       "       -1.1012789 , -0.55760336, -1.2811652 , -0.48526978, -0.9324659 ,\n",
       "       -0.5932111 , -0.63411605, -0.28065825, -1.0152829 , -0.33613145,\n",
       "       -0.47933233, -0.7406806 , -0.42577294, -0.66421634, -0.4951563 ,\n",
       "       -0.7564831 , -0.38312748, -0.54382217, -0.60845035, -1.1691294 ,\n",
       "       -0.7922281 , -0.568119  , -0.54444027, -0.35456267, -0.5664976 ,\n",
       "       -0.6109527 , -0.56997377, -1.0291023 , -0.527222  , -0.5358325 ,\n",
       "       -0.29635152, -0.276265  , -1.2510647 , -0.54792994, -0.42578986,\n",
       "       -0.8134584 , -0.85947526, -0.36207926], dtype=float32)"
      ]
     },
     "execution_count": 25,
     "metadata": {},
     "output_type": "execute_result"
    }
   ],
   "source": [
    "true_energies[0]"
   ]
  },
  {
   "cell_type": "code",
   "execution_count": 26,
   "id": "e50e0584-eeae-4998-b441-35454274803c",
   "metadata": {},
   "outputs": [
    {
     "data": {
      "text/plain": [
       "array([-0.08295473, -0.10599605, -0.10063773, -0.1025221 , -0.07665101,\n",
       "       -0.0910446 , -0.08143388, -0.10116056, -0.11609384, -0.10163264,\n",
       "       -0.08948466, -0.08362755, -0.08713658, -0.08527625, -0.0827287 ,\n",
       "       -0.08276056, -0.08181411, -0.09690216, -0.09125093, -0.08448278,\n",
       "       -0.10231747, -0.09782499, -0.07542475, -0.11182649, -0.08558099,\n",
       "       -0.08236105, -0.08377305, -0.09273501, -0.08834806, -0.08813842,\n",
       "       -0.09865288, -0.09230526, -0.08137369, -0.09101903, -0.09146767,\n",
       "       -0.09878822, -0.08572769, -0.10042706, -0.0838443 , -0.0846217 ,\n",
       "       -0.09609735, -0.10091926, -0.09024816, -0.10567141, -0.08026864,\n",
       "       -0.08063302, -0.08133046, -0.09407789, -0.085957  , -0.1075815 ,\n",
       "       -0.09119093, -0.09019299, -0.08186673, -0.07228427, -0.10625073,\n",
       "       -0.09185582, -0.09424545, -0.10566951, -0.08197208, -0.07958107,\n",
       "       -0.11840694, -0.08714095, -0.10431495, -0.07684635, -0.11095307,\n",
       "       -0.11639562, -0.11297242, -0.10062468, -0.08377688, -0.08616295,\n",
       "       -0.11678366, -0.09680536, -0.09490559, -0.11138476, -0.09078213,\n",
       "       -0.09962934, -0.08325612, -0.10265879, -0.06050336, -0.09920562,\n",
       "       -0.10189787, -0.10434566, -0.09233774, -0.09787251, -0.08572035,\n",
       "       -0.10669969, -0.0873042 , -0.09547062, -0.07925263, -0.08822896,\n",
       "       -0.1008409 , -0.07432286, -0.08001265, -0.11431994, -0.0876883 ,\n",
       "       -0.10421528, -0.10817972, -0.0849015 , -0.09469581, -0.09080555,\n",
       "       -0.10008128, -0.09622007, -0.09920628, -0.08240654, -0.08640873,\n",
       "       -0.09211841, -0.08554815, -0.0974655 , -0.08786246, -0.09551629,\n",
       "       -0.08175915, -0.08455671, -0.11102142, -0.09319901, -0.09544721,\n",
       "       -0.10151979, -0.09365286, -0.08184034, -0.09246677, -0.08024293,\n",
       "       -0.09273227, -0.08411932, -0.09504359, -0.10199963, -0.09373908,\n",
       "       -0.09384103, -0.09492876, -0.09961605], dtype=float32)"
      ]
     },
     "execution_count": 26,
     "metadata": {},
     "output_type": "execute_result"
    }
   ],
   "source": [
    "pred_energies[0] "
   ]
  },
  {
   "cell_type": "code",
   "execution_count": 30,
   "id": "5b54a30d-2b94-4847-bc26-a02ad9b37df3",
   "metadata": {},
   "outputs": [],
   "source": [
    "pred_energies = np.hstack(pred_energies)\n",
    "true_energies = np.hstack(true_energies)"
   ]
  },
  {
   "cell_type": "code",
   "execution_count": 31,
   "id": "59136307-b532-45bf-8cf9-a267ce28431f",
   "metadata": {},
   "outputs": [
    {
     "data": {
      "text/plain": [
       "<matplotlib.lines.Line2D at 0x522f2b9b0>"
      ]
     },
     "execution_count": 31,
     "metadata": {},
     "output_type": "execute_result"
    },
    {
     "data": {
      "image/png": "[encoded data removed]",
      "text/plain": [
       "<Figure size 640x480 with 1 Axes>"
      ]
     },
     "metadata": {},
     "output_type": "display_data"
    }
   ],
   "source": [
    "mean_val = np.mean(true_energies)\n",
    "median_val = np.median(true_energies)\n",
    "\n",
    "plt.hist(true_energies)\n",
    "plt.axvline(mean_val, color='red', linestyle='dashed', linewidth=1, label=f'Mean: {mean_val:.2f}')\n",
    "plt.axvline(median_val, color='green', linestyle='dashed', linewidth=1, label=f'Median: {median_val:.2f}')"
   ]
  },
  {
   "cell_type": "code",
   "execution_count": 33,
   "id": "6b2f546a-4e7a-4ba1-a0d2-c2513ff4d627",
   "metadata": {},
   "outputs": [
    {
     "data": {
      "image/png": "[encoded data removed]",
      "text/plain": [
       "<Figure size 350x350 with 1 Axes>"
      ]
     },
     "metadata": {},
     "output_type": "display_data"
    }
   ],
   "source": [
    "import scipy\n",
    "import matplotlib.pyplot as plt\n",
    "plt.figure(figsize=(3.5,3.5))\n",
    "plt.scatter(pred_energies,true_energies,label=\"Occupied\")\n",
    "#plt.scatter(virt_pred,virt_true,label=\"Virtual\")\n",
    "hartree_to_ev = 27.2114\n",
    "tot_pred = np.hstack([pred_energies]) #virt_pred\n",
    "tot_true = np.hstack([true_energies]) #virt_true\n",
    "occ_mae = np.abs(pred_energies - true_energies).mean()\n",
    "#virt_mae = np.abs(virt_pred - virt_true).mean()\n",
    "mae = np.abs(pred_energies - true_energies).mean()\n",
    "mae = np.round(mae*hartree_to_ev,2)\n",
    "occ_mae = np.round(occ_mae*hartree_to_ev,2)\n",
    "#virt_mae = np.round(virt_mae*hartree_to_ev,2)\n",
    "r2 = np.round(scipy.stats.pearsonr(tot_pred,tot_true)[0],3)\n",
    "xmin, xmax = -1.75, 4.25\n",
    "s = 1.25\n",
    "x = y = np.arange(xmin,xmax+1)\n",
    "plt.plot(x,y,linestyle=\"--\",color=\"grey\")\n",
    "plt.xlim(xmin,xmax)\n",
    "plt.ylim(xmin,xmax)\n",
    "tcks = np.round(np.arange(xmin,xmax,s),2)\n",
    "plt.xticks(tcks,tcks)\n",
    "plt.yticks(tcks,tcks)\n",
    "plt.gca().set_aspect('equal')\n",
    "plt.legend()\n",
    "djvfont = {'fontname':'DejaVu Sans'}\n",
    "fs=16\n",
    "plt.xlabel(\"Predicted Energy (Ha)\",fontsize=fs,**djvfont)\n",
    "plt.ylabel(\"True Energy (Ha)\",fontsize=fs,**djvfont)\n",
    "plt.title(\"QM9 B3LYP@Def2SVP\",fontsize=fs,**djvfont)\n",
    "plt.text(-1.55,2.4,f\"R$^2$:{r2}\",fontsize=11,**djvfont)\n",
    "#plt.text(0.3,-0.75,f\"vMAE:{virt_mae} eV\",fontsize=fs,**djvfont)\n",
    "plt.text(0.3,-1.5,f\"oMAE:{occ_mae} eV\",fontsize=fs,**djvfont)\n",
    "plt.tight_layout()\n",
    "#plt.savefig(\"figures/sto3g_parity.png\",dpi=500)"
   ]
  },
  {
   "cell_type": "code",
   "execution_count": null,
   "id": "398c5d58-865e-45ee-90fd-bdee09b14c24",
   "metadata": {},
   "outputs": [],
   "source": []
  }
 ],
 "metadata": {
  "kernelspec": {
   "display_name": "Python 3 (ipykernel)",
   "language": "python",
   "name": "python3"
  },
  "language_info": {
   "codemirror_mode": {
    "name": "ipython",
    "version": 3
   },
   "file_extension": ".py",
   "mimetype": "text/x-python",
   "name": "python",
   "nbconvert_exporter": "python",
   "pygments_lexer": "ipython3",
   "version": "3.12.0"
  }
 },
 "nbformat": 4,
 "nbformat_minor": 5
}
