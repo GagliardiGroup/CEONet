{
 "cells": [
  {
   "cell_type": "markdown",
   "id": "6ddd1ce9-c896-4408-9e4a-53249546f60b",
   "metadata": {},
   "source": [
    "## STO-3G Benchmarking"
   ]
  },
  {
   "cell_type": "code",
   "execution_count": 1,
   "id": "88fdaecd-abd2-4151-a232-4593ff125336",
   "metadata": {
    "execution": {
     "iopub.execute_input": "2025-04-15T07:52:55.320955Z",
     "iopub.status.busy": "2025-04-15T07:52:55.320681Z",
     "iopub.status.idle": "2025-04-15T07:52:55.342926Z",
     "shell.execute_reply": "2025-04-15T07:52:55.342157Z",
     "shell.execute_reply.started": "2025-04-15T07:52:55.320925Z"
    }
   },
   "outputs": [],
   "source": [
    "%load_ext autoreload\n",
    "%autoreload 2"
   ]
  },
  {
   "cell_type": "code",
   "execution_count": 2,
   "id": "1b94dc00-1291-4ff6-81b3-4b2dfca3d885",
   "metadata": {
    "execution": {
     "iopub.execute_input": "2025-04-15T07:52:55.345268Z",
     "iopub.status.busy": "2025-04-15T07:52:55.344759Z",
     "iopub.status.idle": "2025-04-15T07:52:58.142554Z",
     "shell.execute_reply": "2025-04-15T07:52:58.141861Z",
     "shell.execute_reply.started": "2025-04-15T07:52:55.345237Z"
    }
   },
   "outputs": [
    {
     "name": "stderr",
     "output_type": "stream",
     "text": [
      "/home/king1305/.local/lib/python3.10/site-packages/torchvision/io/image.py:13: UserWarning: Failed to load image Python extension: '/home/king1305/.local/lib/python3.10/site-packages/torchvision/image.so: undefined symbol: _ZN3c1017RegisterOperatorsD1Ev'If you don't plan on using image functionality from `torchvision.io`, you can ignore this warning. Otherwise, there might be something wrong with your environment. Did you have `libjpeg` or `libpng` installed before building `torchvision` from source?\n",
      "  warn(\n"
     ]
    }
   ],
   "source": [
    "import os\n",
    "import sys\n",
    "import glob\n",
    "import torch\n",
    "import time\n",
    "from cace.tasks import LightningTrainingTask\n",
    "from deeporb.data import OrbDataset, OrbData\n",
    "from deeporb.ceonet import CEONet\n",
    "from cace.models import NeuralNetworkPotential\n",
    "from deeporb.atomwise import AttentionAtomwise\n",
    "from cace.tasks import GetLoss\n",
    "from deeporb.metrics import Metrics\n",
    "import numpy as np\n",
    "import matplotlib.pyplot as plt\n",
    "import hashlib\n",
    "from pathlib import Path\n",
    "import h5py"
   ]
  },
  {
   "cell_type": "code",
   "execution_count": 3,
   "id": "bcde1a9c-e8ac-4212-bfe2-e72ee7c28116",
   "metadata": {
    "execution": {
     "iopub.execute_input": "2025-04-15T07:52:58.143672Z",
     "iopub.status.busy": "2025-04-15T07:52:58.143352Z",
     "iopub.status.idle": "2025-04-15T07:53:17.358421Z",
     "shell.execute_reply": "2025-04-15T07:53:17.357738Z",
     "shell.execute_reply.started": "2025-04-15T07:52:58.143651Z"
    }
   },
   "outputs": [
    {
     "name": "stdout",
     "output_type": "stream",
     "text": [
      "Making dataset...\n",
      "calling prepare data\n",
      "reading h5 file\n",
      "calling setup\n",
      "10000\n",
      "8000\n"
     ]
    }
   ],
   "source": [
    "#Write here\n",
    "DATA_NAME = \"sto3g_occ\"\n",
    "SUBSET_SIZE = \"10000\"\n",
    "\n",
    "#Model params\n",
    "CUTOFF = 7.6\n",
    "LINMAX = 1\n",
    "LOMAX = 2\n",
    "NC = 16\n",
    "LAYERS = 2\n",
    "N_RBF = 16\n",
    "N_RSAMPLES = 16\n",
    "STACKING = True\n",
    "IRREP_MIXING = False\n",
    "CHARGE_EMBEDDING = False\n",
    "\n",
    "#Data params\n",
    "BATCH_SIZE = 128\n",
    "IN_MEMORY = True\n",
    "AVGE0 = -0.6605\n",
    "SIGMA = 0.2801\n",
    "\n",
    "DEV_RUN = False\n",
    "LR = 0.001\n",
    "MAX_STEPS = 600000\n",
    "\n",
    "root = f\"data/{DATA_NAME.split('.')[0]}_{SUBSET_SIZE}.h5\"\n",
    "torch.multiprocessing.set_sharing_strategy('file_system')\n",
    "in_memory = True\n",
    "\n",
    "print(\"Making dataset...\")\n",
    "data = OrbData(data_path=root,batch_size=BATCH_SIZE,cutoff=CUTOFF,avge0=AVGE0,sigma=SIGMA)\n",
    "data.setup() #Suuuuuper slow"
   ]
  },
  {
   "cell_type": "code",
   "execution_count": 4,
   "id": "05ac5399-1263-4700-98cb-471392053e1e",
   "metadata": {
    "execution": {
     "iopub.execute_input": "2025-04-15T07:53:17.359471Z",
     "iopub.status.busy": "2025-04-15T07:53:17.359171Z",
     "iopub.status.idle": "2025-04-15T07:53:17.449219Z",
     "shell.execute_reply": "2025-04-15T07:53:17.448572Z",
     "shell.execute_reply.started": "2025-04-15T07:53:17.359451Z"
    }
   },
   "outputs": [
    {
     "data": {
      "text/plain": [
       "<All keys matched successfully>"
      ]
     },
     "execution_count": 4,
     "metadata": {},
     "output_type": "execute_result"
    }
   ],
   "source": [
    "#Make model & load ckpt\n",
    "representation = CEONet(NC,cutoff=CUTOFF,n_rbf=N_RBF,n_rsamples=N_RSAMPLES,stacking=STACKING,irrep_mixing=IRREP_MIXING,\n",
    "                        linmax=LINMAX,lomax=LOMAX,layers=LAYERS,charge_embedding=CHARGE_EMBEDDING)\n",
    "\n",
    "atomwise = AttentionAtomwise(\n",
    "                    output_key='pred_energy',\n",
    "                    n_hidden=[32,16],\n",
    "                    attention_hidden_nc=128,\n",
    "                    avge0=AVGE0,sigma=SIGMA,\n",
    "                    bias=True\n",
    "                   )\n",
    "\n",
    "model = NeuralNetworkPotential(\n",
    "    input_modules=None,\n",
    "    representation=representation,\n",
    "    output_modules=[atomwise]\n",
    ")\n",
    "\n",
    "e_loss = GetLoss(\n",
    "            target_name=\"energy_ssh\",\n",
    "            predict_name='pred_energy',\n",
    "            loss_fn=torch.nn.MSELoss(),\n",
    "            loss_weight=1,\n",
    "            )\n",
    "losses = [e_loss]\n",
    "\n",
    "e_metric = Metrics(\n",
    "            target_name=\"energy\",\n",
    "            predict_name='pred_energy',\n",
    "            name='e',\n",
    "            metric_keys=[\"mae\"],\n",
    "            avge0=AVGE0,sigma=SIGMA,\n",
    "            per_atom=False,\n",
    "        )\n",
    "metrics = [e_metric]\n",
    "\n",
    "task = LightningTrainingTask(model,losses=losses,metrics=metrics,\n",
    "                             logs_directory=\"lightning_logs\",name=\"test_ex\",\n",
    "                             scheduler_args={'mode': 'min', 'factor': 0.8, 'patience': 10},\n",
    "                             optimizer_args={'lr': LR},\n",
    "                            )\n",
    "\n",
    "#You need to load the best_model_state.pth here:\n",
    "pth = f\"model_eval/best_models_polaris/{DATA_NAME}_1000000/best_model_state.pth\"\n",
    "state_dict = torch.load(pth,map_location='cpu',weights_only=True)\n",
    "task.model.model.load_state_dict(state_dict)"
   ]
  },
  {
   "cell_type": "code",
   "execution_count": 5,
   "id": "04754305-b96f-498c-af95-3ddf568beb3a",
   "metadata": {
    "execution": {
     "iopub.execute_input": "2025-04-15T07:53:17.450118Z",
     "iopub.status.busy": "2025-04-15T07:53:17.449947Z",
     "iopub.status.idle": "2025-04-15T07:53:20.575201Z",
     "shell.execute_reply": "2025-04-15T07:53:20.574329Z",
     "shell.execute_reply.started": "2025-04-15T07:53:17.450099Z"
    }
   },
   "outputs": [
    {
     "name": "stdout",
     "output_type": "stream",
     "text": [
      "MAE: 0.0077\n",
      "R2: 1.0\n"
     ]
    }
   ],
   "source": [
    "import scipy\n",
    "import matplotlib.pyplot as plt\n",
    "import torch\n",
    "import numpy as np\n",
    "\n",
    "class Benchmark:\n",
    "    def __init__(self,data,task):\n",
    "        self.model = task.model.model\n",
    "        self.data = data\n",
    "        self.avge0 = task.model.model.output_modules[0].avge0\n",
    "        self.sigma = task.model.model.output_modules[0].sigma\n",
    "\n",
    "    def predict(self):\n",
    "        pred_energies = []\n",
    "        true_energies = []\n",
    "        self.model.cuda()\n",
    "        self.model.eval()\n",
    "        with torch.no_grad():\n",
    "            for batch in self.data.test_dataloader():\n",
    "                batch.cuda()\n",
    "                out = self.model(batch)\n",
    "                pred_energy = out[\"pred_energy\"] * self.sigma + self.avge0\n",
    "                pred_energy = pred_energy.cpu().detach().numpy()\n",
    "                pred_energies.append(pred_energy)\n",
    "                true_energy = batch[\"energy\"].cpu().detach().numpy()\n",
    "                true_energies.append(true_energy)\n",
    "                torch.cuda.empty_cache()\n",
    "        pred_energies = np.hstack(pred_energies)\n",
    "        true_energies = np.hstack(true_energies)\n",
    "        self.pred = pred_energies\n",
    "        self.true = true_energies\n",
    "        hartree_to_ev = 27.2114\n",
    "        mae = np.abs(self.pred - self.true).mean()\n",
    "        mae = np.round(mae*hartree_to_ev,4)\n",
    "        r2 = np.round(scipy.stats.pearsonr(self.true,self.pred)[0]**2,3)\n",
    "        self.mae = mae\n",
    "        self.r2 = r2\n",
    "        print(\"MAE:\",mae)\n",
    "        print(\"R2:\",r2)\n",
    "        return self.true, self.pred\n",
    "        \n",
    "obj = Benchmark(data,task)\n",
    "true_energies, pred_energies = obj.predict()"
   ]
  },
  {
   "cell_type": "code",
   "execution_count": 6,
   "id": "c61bf4af-e315-4dba-a733-3a693d6a4f05",
   "metadata": {
    "execution": {
     "iopub.execute_input": "2025-04-15T07:53:20.576395Z",
     "iopub.status.busy": "2025-04-15T07:53:20.576147Z",
     "iopub.status.idle": "2025-04-15T07:53:22.079099Z",
     "shell.execute_reply": "2025-04-15T07:53:22.078552Z",
     "shell.execute_reply.started": "2025-04-15T07:53:20.576375Z"
    }
   },
   "outputs": [
    {
     "name": "stdout",
     "output_type": "stream",
     "text": [
      "MAE: 0.0077\n",
      "R2: 1.0\n"
     ]
    },
    {
     "data": {
      "image/png": "[encoded data removed]",
      "text/plain": [
       "<Figure size 350x350 with 1 Axes>"
      ]
     },
     "metadata": {},
     "output_type": "display_data"
    }
   ],
   "source": [
    "obj_occ = Benchmark(data,task)\n",
    "occ_true,occ_pred = obj_occ.predict()\n",
    "\n",
    "# obj_virt = Benchmark(\"sto3g_virt\")\n",
    "# virt_true,virt_pred = obj_virt.predict()\n",
    "\n",
    "import scipy\n",
    "import matplotlib.pyplot as plt\n",
    "plt.figure(figsize=(3.5,3.5))\n",
    "plt.scatter(occ_true,occ_pred,label=\"Occupied\")\n",
    "# plt.scatter(virt_true,virt_true,label=\"Virtual\")\n",
    "hartree_to_ev = 27.2114\n",
    "occ_mae = np.round(np.abs(occ_pred - occ_true).mean()*hartree_to_ev,3)\n",
    "occ_r2 = np.round(scipy.stats.pearsonr(occ_true,occ_pred)[0]**2,2)\n",
    "# virt_mae = np.round(np.abs(virt_pred - virt_true).mean()*hartree_to_ev,2)\n",
    "# virt_r2 = np.round(scipy.stats.pearsonr(virt_true,virt_pred)[0]**2,2)\n",
    "xmin, xmax = -1.75, 4.25\n",
    "x = y = np.arange(xmin,xmax+1)\n",
    "plt.plot(x,y,linestyle=\"--\",color=\"grey\")\n",
    "plt.xlim(xmin,xmax)\n",
    "plt.ylim(xmin,xmax)\n",
    "tcks = np.round(np.arange(xmin,xmax,1.25),2)\n",
    "plt.xticks(tcks,tcks)\n",
    "plt.yticks(tcks,tcks)\n",
    "plt.gca().set_aspect('equal')\n",
    "plt.legend()\n",
    "djvfont = {'fontname':'DejaVu Sans'}\n",
    "fs=16\n",
    "plt.ylabel(\"Predicted Energy (Ha)\",fontsize=fs,**djvfont)\n",
    "plt.xlabel(\"True Energy (Ha)\",fontsize=fs,**djvfont)\n",
    "plt.title(\"QM9 HF@STO-3G\",fontsize=fs,**djvfont)\n",
    "plt.text(-1.45,2.9,f\"oR$^2$:{occ_r2}\",fontsize=11,**djvfont)\n",
    "# plt.text(-1.8,2.4,f\"vR$^2$:{virt_r2}\",fontsize=11,**djvfont)\n",
    "plt.text(0,-1.5,f\"oMAE:{occ_mae} eV\",fontsize=fs,**djvfont)\n",
    "# plt.text(0.3,-0.75,f\"vMAE:{virt_mae} eV\",fontsize=fs,**djvfont)\n",
    "plt.tight_layout()\n",
    "# plt.savefig(\"figures/sto3g_parity.png\",dpi=500)"
   ]
  }
 ],
 "metadata": {
  "kernelspec": {
   "display_name": "Python 3 (ipykernel)",
   "language": "python",
   "name": "python3"
  },
  "language_info": {
   "codemirror_mode": {
    "name": "ipython",
    "version": 3
   },
   "file_extension": ".py",
   "mimetype": "text/x-python",
   "name": "python",
   "nbconvert_exporter": "python",
   "pygments_lexer": "ipython3",
   "version": "3.10.12"
  }
 },
 "nbformat": 4,
 "nbformat_minor": 5
}
